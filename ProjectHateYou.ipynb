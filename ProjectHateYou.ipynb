{
  "nbformat": 4,
  "nbformat_minor": 0,
  "metadata": {
    "colab": {
      "provenance": [],
      "authorship_tag": "ABX9TyO2KQ2UQQas2aZ9mc3W21cx",
      "include_colab_link": true
    },
    "kernelspec": {
      "name": "python3",
      "display_name": "Python 3"
    },
    "language_info": {
      "name": "python"
    }
  },
  "cells": [
    {
      "cell_type": "markdown",
      "metadata": {
        "id": "view-in-github",
        "colab_type": "text"
      },
      "source": [
        "<a href=\"https://colab.research.google.com/github/Dforouzanfar/Text_Mining_and_Sentiment_Analysis/blob/master/ProjectHateYou.ipynb\" target=\"_parent\"><img src=\"https://colab.research.google.com/assets/colab-badge.svg\" alt=\"Open In Colab\"/></a>"
      ]
    },
    {
      "cell_type": "markdown",
      "source": [
        "<div  align=\"center\">\n",
        "  <font size='6'>\n",
        "  Text Mining and Sentiment Analysis\n",
        "  </font><br>\n",
        "  <font size='5'>\n",
        "  Project: I Hate You<br>\n",
        "  Accademic Year: 2023-2024<br>\n",
        "  <b>Danial Forouzanfar</b>\n",
        "  </font>\n",
        "</div>"
      ],
      "metadata": {
        "id": "J6ULrd8JVlfe"
      }
    },
    {
      "cell_type": "markdown",
      "source": [
        "# 0. Preliminary Setup"
      ],
      "metadata": {
        "id": "k9DlZRYqZoSq"
      }
    },
    {
      "cell_type": "markdown",
      "source": [
        "## 0.1. Required Libraries"
      ],
      "metadata": {
        "id": "k8BvjUuMZ7Q1"
      }
    },
    {
      "cell_type": "markdown",
      "source": [
        "`contractions` - expands English language contractions (e.g., \"don't\" to \"do not\") in text processing tasks."
      ],
      "metadata": {
        "id": "TsWnSULwZyeq"
      }
    },
    {
      "cell_type": "code",
      "source": [
        "!pip install -q contractions"
      ],
      "metadata": {
        "colab": {
          "base_uri": "https://localhost:8080/"
        },
        "id": "ccIt6faEV1y5",
        "outputId": "36e3d3e3-e9c1-4402-dead-0b11dde91e1c"
      },
      "execution_count": null,
      "outputs": [
        {
          "output_type": "stream",
          "name": "stdout",
          "text": [
            "\u001b[?25l   \u001b[90m━━━━━━━━━━━━━━━━━━━━━━━━━━━━━━━━━━━━━━━━\u001b[0m \u001b[32m0.0/289.9 kB\u001b[0m \u001b[31m?\u001b[0m eta \u001b[36m-:--:--\u001b[0m\r\u001b[2K   \u001b[91m━━━━━━━━━━━━━━━━━━━━━━━━━━━━━━━━━━━━━━━\u001b[0m\u001b[91m╸\u001b[0m \u001b[32m286.7/289.9 kB\u001b[0m \u001b[31m11.8 MB/s\u001b[0m eta \u001b[36m0:00:01\u001b[0m\r\u001b[2K   \u001b[90m━━━━━━━━━━━━━━━━━━━━━━━━━━━━━━━━━━━━━━━━\u001b[0m \u001b[32m289.9/289.9 kB\u001b[0m \u001b[31m5.5 MB/s\u001b[0m eta \u001b[36m0:00:00\u001b[0m\n",
            "\u001b[?25h\u001b[?25l   \u001b[90m━━━━━━━━━━━━━━━━━━━━━━━━━━━━━━━━━━━━━━━━\u001b[0m \u001b[32m0.0/118.3 kB\u001b[0m \u001b[31m?\u001b[0m eta \u001b[36m-:--:--\u001b[0m\r\u001b[2K   \u001b[90m━━━━━━━━━━━━━━━━━━━━━━━━━━━━━━━━━━━━━━━━\u001b[0m \u001b[32m118.3/118.3 kB\u001b[0m \u001b[31m5.7 MB/s\u001b[0m eta \u001b[36m0:00:00\u001b[0m\n",
            "\u001b[?25h"
          ]
        }
      ]
    },
    {
      "cell_type": "code",
      "source": [
        "import os\n",
        "import requests\n",
        "from pathlib import Path\n",
        "import numpy as np\n",
        "import pandas as pd\n",
        "import matplotlib.pyplot as plt\n",
        "import seaborn as sns\n",
        "import inflect\n",
        "import contractions\n",
        "import re\n",
        "import nltk\n",
        "from nltk.corpus import stopwords\n",
        "from nltk.tokenize import word_tokenize\n",
        "from nltk.stem import SnowballStemmer\n",
        "import gensim\n",
        "from gensim.models import Word2Vec\n",
        "import gensim.downloader as api\n",
        "from sklearn.model_selection import train_test_split\n",
        "from sklearn.metrics import accuracy_score, classification_report, confusion_matrix, f1_score\n",
        "from xgboost import XGBClassifier\n",
        "from sklearn.svm import SVC"
      ],
      "metadata": {
        "id": "_IfNYq2hZqdm"
      },
      "execution_count": null,
      "outputs": []
    },
    {
      "cell_type": "code",
      "source": [
        "nltk.download('punkt')\n",
        "nltk.download('punkt_tab')\n",
        "nltk.download('wordnet')\n",
        "nltk.download('stopwords')"
      ],
      "metadata": {
        "colab": {
          "base_uri": "https://localhost:8080/"
        },
        "id": "yZtIUYE6ZtwW",
        "outputId": "aea3c899-2214-49a1-f203-f46f7ba19fe0"
      },
      "execution_count": null,
      "outputs": [
        {
          "output_type": "stream",
          "name": "stderr",
          "text": [
            "[nltk_data] Downloading package punkt to /root/nltk_data...\n",
            "[nltk_data]   Unzipping tokenizers/punkt.zip.\n",
            "[nltk_data] Downloading package punkt_tab to /root/nltk_data...\n",
            "[nltk_data]   Unzipping tokenizers/punkt_tab.zip.\n",
            "[nltk_data] Downloading package wordnet to /root/nltk_data...\n",
            "[nltk_data] Downloading package stopwords to /root/nltk_data...\n",
            "[nltk_data]   Unzipping corpora/stopwords.zip.\n"
          ]
        },
        {
          "output_type": "execute_result",
          "data": {
            "text/plain": [
              "True"
            ]
          },
          "metadata": {},
          "execution_count": 3
        }
      ]
    },
    {
      "cell_type": "markdown",
      "source": [
        "## 0.2. Loading a Pretrained Word2Vec Model"
      ],
      "metadata": {
        "id": "UyHkKW3fZ806"
      }
    },
    {
      "cell_type": "code",
      "source": [
        "pretrain_wv = api.load('word2vec-google-news-300')"
      ],
      "metadata": {
        "colab": {
          "base_uri": "https://localhost:8080/"
        },
        "id": "p719m9ZgZ4FI",
        "outputId": "9922ba43-0487-4ace-9b8c-f46398f93626"
      },
      "execution_count": null,
      "outputs": [
        {
          "output_type": "stream",
          "name": "stdout",
          "text": [
            "[==================================================] 100.0% 1662.8/1662.8MB downloaded\n"
          ]
        }
      ]
    },
    {
      "cell_type": "markdown",
      "source": [
        "# 1. Data"
      ],
      "metadata": {
        "id": "Sdqo4CxAaIsL"
      }
    },
    {
      "cell_type": "code",
      "source": [
        "data_path = Path('data')\n",
        "\n",
        "if not data_path.is_dir():\n",
        "  data_path.mkdir(parents=True, exist_ok=True)\n",
        "\n",
        "with open(data_path / \"hate_speech.csv\", \"wb\") as f:\n",
        "  url=\"https://raw.githubusercontent.com/t-davidson/hate-speech-and-offensive-language/refs/heads/master/data/labeled_data.csv\"\n",
        "  request = requests.get(url)\n",
        "  f.write(request.content)"
      ],
      "metadata": {
        "id": "JuHoTT2gZ5Se"
      },
      "execution_count": null,
      "outputs": []
    },
    {
      "cell_type": "markdown",
      "source": [
        "## 1.1. Data Exploration"
      ],
      "metadata": {
        "id": "Y6OwJW8VaVax"
      }
    },
    {
      "cell_type": "code",
      "source": [
        "# Read the data\n",
        "raw_df = pd.read_csv(\"data/hate_speech.csv\")\n",
        "\n",
        "# Choosing the required columns\n",
        "raw_df = raw_df[['class', 'tweet']]\n",
        "\n",
        "# Change the name of each column\n",
        "raw_df = raw_df.rename(columns={\"class\": \"Label\", \"tweet\": \"Text\"})\n",
        "\n",
        "# Remap label values: 0 -> 1, 1 -> 2, and 2 -> 0 to match the desired categorization\n",
        "mapping = {0: 1, 1: 2, 2: 0}\n",
        "raw_df[\"Label\"] = raw_df[\"Label\"].replace(mapping)\n",
        "\n",
        "# Changing the type of labels data\n",
        "min_sample = raw_df[\"Label\"].value_counts().min()\n",
        "raw_df = pd.concat([\n",
        "    raw_df[raw_df[\"Label\"] == label].sample(min_sample, random_state=42)\n",
        "    for label in raw_df[\"Label\"].unique()\n",
        "]).reset_index(drop=True)\n",
        "\n",
        "# Some basic info about the dataset\n",
        "print(f\"Shape of the dataset:\\n{raw_df.shape}\\n-\\nNull Values:\\n{raw_df.isna().any()}\\n-\\nData Types:\\n{raw_df.dtypes}\\n-\\nValue Counts for labels:\\n{raw_df['Label'].value_counts()}\")"
      ],
      "metadata": {
        "colab": {
          "base_uri": "https://localhost:8080/"
        },
        "id": "6eVg6Fi0aVsD",
        "outputId": "2a9ffdc5-6873-4fd3-bc4e-571cd9f3d635"
      },
      "execution_count": null,
      "outputs": [
        {
          "output_type": "stream",
          "name": "stdout",
          "text": [
            "Shape of the dataset:\n",
            "(4290, 2)\n",
            "-\n",
            "Null Values:\n",
            "Label    False\n",
            "Text     False\n",
            "dtype: bool\n",
            "-\n",
            "Data Types:\n",
            "Label     int64\n",
            "Text     object\n",
            "dtype: object\n",
            "-\n",
            "Value Counts for labels:\n",
            "Label\n",
            "0    1430\n",
            "2    1430\n",
            "1    1430\n",
            "Name: count, dtype: int64\n"
          ]
        }
      ]
    },
    {
      "cell_type": "markdown",
      "source": [
        "<font size='4'>Labels:\n",
        "<li>0: Neither</li>\n",
        "<li>1: Hate</li>\n",
        "<li>2: Offensive</li>\n",
        "</font>"
      ],
      "metadata": {
        "id": "ROVlZA9aJIKm"
      }
    },
    {
      "cell_type": "code",
      "source": [
        "# 4 samples of text and their labels\n",
        "raw_df.sample(n=4)"
      ],
      "metadata": {
        "colab": {
          "base_uri": "https://localhost:8080/",
          "height": 175
        },
        "id": "FmVGAF_NaWxr",
        "outputId": "1eb62c36-6597-45a1-8abf-a2a7ede5ca3a"
      },
      "execution_count": null,
      "outputs": [
        {
          "output_type": "execute_result",
          "data": {
            "text/plain": [
              "      Label                                               Text\n",
              "2350      2   Money first woman second but you hoes are last !\n",
              "1700      2                         Tanning with my main bitch\n",
              "3138      1  @young_moniee what's this chinks email? I'm mo...\n",
              "697       0  RT @kamaalrkhan: Sir @ArvindKejriwal career th..."
            ],
            "text/html": [
              "\n",
              "  <div id=\"df-a2c42791-cd67-4909-a71c-6a093fda838e\" class=\"colab-df-container\">\n",
              "    <div>\n",
              "<style scoped>\n",
              "    .dataframe tbody tr th:only-of-type {\n",
              "        vertical-align: middle;\n",
              "    }\n",
              "\n",
              "    .dataframe tbody tr th {\n",
              "        vertical-align: top;\n",
              "    }\n",
              "\n",
              "    .dataframe thead th {\n",
              "        text-align: right;\n",
              "    }\n",
              "</style>\n",
              "<table border=\"1\" class=\"dataframe\">\n",
              "  <thead>\n",
              "    <tr style=\"text-align: right;\">\n",
              "      <th></th>\n",
              "      <th>Label</th>\n",
              "      <th>Text</th>\n",
              "    </tr>\n",
              "  </thead>\n",
              "  <tbody>\n",
              "    <tr>\n",
              "      <th>2350</th>\n",
              "      <td>2</td>\n",
              "      <td>Money first woman second but you hoes are last !</td>\n",
              "    </tr>\n",
              "    <tr>\n",
              "      <th>1700</th>\n",
              "      <td>2</td>\n",
              "      <td>Tanning with my main bitch</td>\n",
              "    </tr>\n",
              "    <tr>\n",
              "      <th>3138</th>\n",
              "      <td>1</td>\n",
              "      <td>@young_moniee what's this chinks email? I'm mo...</td>\n",
              "    </tr>\n",
              "    <tr>\n",
              "      <th>697</th>\n",
              "      <td>0</td>\n",
              "      <td>RT @kamaalrkhan: Sir @ArvindKejriwal career th...</td>\n",
              "    </tr>\n",
              "  </tbody>\n",
              "</table>\n",
              "</div>\n",
              "    <div class=\"colab-df-buttons\">\n",
              "\n",
              "  <div class=\"colab-df-container\">\n",
              "    <button class=\"colab-df-convert\" onclick=\"convertToInteractive('df-a2c42791-cd67-4909-a71c-6a093fda838e')\"\n",
              "            title=\"Convert this dataframe to an interactive table.\"\n",
              "            style=\"display:none;\">\n",
              "\n",
              "  <svg xmlns=\"http://www.w3.org/2000/svg\" height=\"24px\" viewBox=\"0 -960 960 960\">\n",
              "    <path d=\"M120-120v-720h720v720H120Zm60-500h600v-160H180v160Zm220 220h160v-160H400v160Zm0 220h160v-160H400v160ZM180-400h160v-160H180v160Zm440 0h160v-160H620v160ZM180-180h160v-160H180v160Zm440 0h160v-160H620v160Z\"/>\n",
              "  </svg>\n",
              "    </button>\n",
              "\n",
              "  <style>\n",
              "    .colab-df-container {\n",
              "      display:flex;\n",
              "      gap: 12px;\n",
              "    }\n",
              "\n",
              "    .colab-df-convert {\n",
              "      background-color: #E8F0FE;\n",
              "      border: none;\n",
              "      border-radius: 50%;\n",
              "      cursor: pointer;\n",
              "      display: none;\n",
              "      fill: #1967D2;\n",
              "      height: 32px;\n",
              "      padding: 0 0 0 0;\n",
              "      width: 32px;\n",
              "    }\n",
              "\n",
              "    .colab-df-convert:hover {\n",
              "      background-color: #E2EBFA;\n",
              "      box-shadow: 0px 1px 2px rgba(60, 64, 67, 0.3), 0px 1px 3px 1px rgba(60, 64, 67, 0.15);\n",
              "      fill: #174EA6;\n",
              "    }\n",
              "\n",
              "    .colab-df-buttons div {\n",
              "      margin-bottom: 4px;\n",
              "    }\n",
              "\n",
              "    [theme=dark] .colab-df-convert {\n",
              "      background-color: #3B4455;\n",
              "      fill: #D2E3FC;\n",
              "    }\n",
              "\n",
              "    [theme=dark] .colab-df-convert:hover {\n",
              "      background-color: #434B5C;\n",
              "      box-shadow: 0px 1px 3px 1px rgba(0, 0, 0, 0.15);\n",
              "      filter: drop-shadow(0px 1px 2px rgba(0, 0, 0, 0.3));\n",
              "      fill: #FFFFFF;\n",
              "    }\n",
              "  </style>\n",
              "\n",
              "    <script>\n",
              "      const buttonEl =\n",
              "        document.querySelector('#df-a2c42791-cd67-4909-a71c-6a093fda838e button.colab-df-convert');\n",
              "      buttonEl.style.display =\n",
              "        google.colab.kernel.accessAllowed ? 'block' : 'none';\n",
              "\n",
              "      async function convertToInteractive(key) {\n",
              "        const element = document.querySelector('#df-a2c42791-cd67-4909-a71c-6a093fda838e');\n",
              "        const dataTable =\n",
              "          await google.colab.kernel.invokeFunction('convertToInteractive',\n",
              "                                                    [key], {});\n",
              "        if (!dataTable) return;\n",
              "\n",
              "        const docLinkHtml = 'Like what you see? Visit the ' +\n",
              "          '<a target=\"_blank\" href=https://colab.research.google.com/notebooks/data_table.ipynb>data table notebook</a>'\n",
              "          + ' to learn more about interactive tables.';\n",
              "        element.innerHTML = '';\n",
              "        dataTable['output_type'] = 'display_data';\n",
              "        await google.colab.output.renderOutput(dataTable, element);\n",
              "        const docLink = document.createElement('div');\n",
              "        docLink.innerHTML = docLinkHtml;\n",
              "        element.appendChild(docLink);\n",
              "      }\n",
              "    </script>\n",
              "  </div>\n",
              "\n",
              "\n",
              "<div id=\"df-8f2f1c6e-111c-43ed-8fa7-aa0cfd748f5c\">\n",
              "  <button class=\"colab-df-quickchart\" onclick=\"quickchart('df-8f2f1c6e-111c-43ed-8fa7-aa0cfd748f5c')\"\n",
              "            title=\"Suggest charts\"\n",
              "            style=\"display:none;\">\n",
              "\n",
              "<svg xmlns=\"http://www.w3.org/2000/svg\" height=\"24px\"viewBox=\"0 0 24 24\"\n",
              "     width=\"24px\">\n",
              "    <g>\n",
              "        <path d=\"M19 3H5c-1.1 0-2 .9-2 2v14c0 1.1.9 2 2 2h14c1.1 0 2-.9 2-2V5c0-1.1-.9-2-2-2zM9 17H7v-7h2v7zm4 0h-2V7h2v10zm4 0h-2v-4h2v4z\"/>\n",
              "    </g>\n",
              "</svg>\n",
              "  </button>\n",
              "\n",
              "<style>\n",
              "  .colab-df-quickchart {\n",
              "      --bg-color: #E8F0FE;\n",
              "      --fill-color: #1967D2;\n",
              "      --hover-bg-color: #E2EBFA;\n",
              "      --hover-fill-color: #174EA6;\n",
              "      --disabled-fill-color: #AAA;\n",
              "      --disabled-bg-color: #DDD;\n",
              "  }\n",
              "\n",
              "  [theme=dark] .colab-df-quickchart {\n",
              "      --bg-color: #3B4455;\n",
              "      --fill-color: #D2E3FC;\n",
              "      --hover-bg-color: #434B5C;\n",
              "      --hover-fill-color: #FFFFFF;\n",
              "      --disabled-bg-color: #3B4455;\n",
              "      --disabled-fill-color: #666;\n",
              "  }\n",
              "\n",
              "  .colab-df-quickchart {\n",
              "    background-color: var(--bg-color);\n",
              "    border: none;\n",
              "    border-radius: 50%;\n",
              "    cursor: pointer;\n",
              "    display: none;\n",
              "    fill: var(--fill-color);\n",
              "    height: 32px;\n",
              "    padding: 0;\n",
              "    width: 32px;\n",
              "  }\n",
              "\n",
              "  .colab-df-quickchart:hover {\n",
              "    background-color: var(--hover-bg-color);\n",
              "    box-shadow: 0 1px 2px rgba(60, 64, 67, 0.3), 0 1px 3px 1px rgba(60, 64, 67, 0.15);\n",
              "    fill: var(--button-hover-fill-color);\n",
              "  }\n",
              "\n",
              "  .colab-df-quickchart-complete:disabled,\n",
              "  .colab-df-quickchart-complete:disabled:hover {\n",
              "    background-color: var(--disabled-bg-color);\n",
              "    fill: var(--disabled-fill-color);\n",
              "    box-shadow: none;\n",
              "  }\n",
              "\n",
              "  .colab-df-spinner {\n",
              "    border: 2px solid var(--fill-color);\n",
              "    border-color: transparent;\n",
              "    border-bottom-color: var(--fill-color);\n",
              "    animation:\n",
              "      spin 1s steps(1) infinite;\n",
              "  }\n",
              "\n",
              "  @keyframes spin {\n",
              "    0% {\n",
              "      border-color: transparent;\n",
              "      border-bottom-color: var(--fill-color);\n",
              "      border-left-color: var(--fill-color);\n",
              "    }\n",
              "    20% {\n",
              "      border-color: transparent;\n",
              "      border-left-color: var(--fill-color);\n",
              "      border-top-color: var(--fill-color);\n",
              "    }\n",
              "    30% {\n",
              "      border-color: transparent;\n",
              "      border-left-color: var(--fill-color);\n",
              "      border-top-color: var(--fill-color);\n",
              "      border-right-color: var(--fill-color);\n",
              "    }\n",
              "    40% {\n",
              "      border-color: transparent;\n",
              "      border-right-color: var(--fill-color);\n",
              "      border-top-color: var(--fill-color);\n",
              "    }\n",
              "    60% {\n",
              "      border-color: transparent;\n",
              "      border-right-color: var(--fill-color);\n",
              "    }\n",
              "    80% {\n",
              "      border-color: transparent;\n",
              "      border-right-color: var(--fill-color);\n",
              "      border-bottom-color: var(--fill-color);\n",
              "    }\n",
              "    90% {\n",
              "      border-color: transparent;\n",
              "      border-bottom-color: var(--fill-color);\n",
              "    }\n",
              "  }\n",
              "</style>\n",
              "\n",
              "  <script>\n",
              "    async function quickchart(key) {\n",
              "      const quickchartButtonEl =\n",
              "        document.querySelector('#' + key + ' button');\n",
              "      quickchartButtonEl.disabled = true;  // To prevent multiple clicks.\n",
              "      quickchartButtonEl.classList.add('colab-df-spinner');\n",
              "      try {\n",
              "        const charts = await google.colab.kernel.invokeFunction(\n",
              "            'suggestCharts', [key], {});\n",
              "      } catch (error) {\n",
              "        console.error('Error during call to suggestCharts:', error);\n",
              "      }\n",
              "      quickchartButtonEl.classList.remove('colab-df-spinner');\n",
              "      quickchartButtonEl.classList.add('colab-df-quickchart-complete');\n",
              "    }\n",
              "    (() => {\n",
              "      let quickchartButtonEl =\n",
              "        document.querySelector('#df-8f2f1c6e-111c-43ed-8fa7-aa0cfd748f5c button');\n",
              "      quickchartButtonEl.style.display =\n",
              "        google.colab.kernel.accessAllowed ? 'block' : 'none';\n",
              "    })();\n",
              "  </script>\n",
              "</div>\n",
              "\n",
              "    </div>\n",
              "  </div>\n"
            ],
            "application/vnd.google.colaboratory.intrinsic+json": {
              "type": "dataframe",
              "summary": "{\n  \"name\": \"raw_df\",\n  \"rows\": 4,\n  \"fields\": [\n    {\n      \"column\": \"Label\",\n      \"properties\": {\n        \"dtype\": \"number\",\n        \"std\": 0,\n        \"min\": 0,\n        \"max\": 2,\n        \"num_unique_values\": 3,\n        \"samples\": [\n          2,\n          1,\n          0\n        ],\n        \"semantic_type\": \"\",\n        \"description\": \"\"\n      }\n    },\n    {\n      \"column\": \"Text\",\n      \"properties\": {\n        \"dtype\": \"string\",\n        \"num_unique_values\": 4,\n        \"samples\": [\n          \"Tanning with my main bitch\",\n          \"RT @kamaalrkhan: Sir @ArvindKejriwal career tho apka waise bhi khatam ho chukka. You have become new Amar Singh so try for publicity #Kejr&#8230;\",\n          \"Money first woman second but you hoes are last !\"\n        ],\n        \"semantic_type\": \"\",\n        \"description\": \"\"\n      }\n    }\n  ]\n}"
            }
          },
          "metadata": {},
          "execution_count": 7
        }
      ]
    },
    {
      "cell_type": "code",
      "source": [
        "raw_df[\"Text\"].loc[2083]"
      ],
      "metadata": {
        "colab": {
          "base_uri": "https://localhost:8080/",
          "height": 36
        },
        "id": "NwF_q9mpaZZA",
        "outputId": "6376fb4a-61cf-4549-97d7-8038d8bf1458"
      },
      "execution_count": null,
      "outputs": [
        {
          "output_type": "execute_result",
          "data": {
            "text/plain": [
              "\"I actually get on with Erin and think she's really nice bit you're so two faced and bitch about her all the time... #nasty\""
            ],
            "application/vnd.google.colaboratory.intrinsic+json": {
              "type": "string"
            }
          },
          "metadata": {},
          "execution_count": 8
        }
      ]
    },
    {
      "cell_type": "code",
      "source": [
        "df = raw_df.copy()\n",
        "\n",
        "# Number of character per text\n",
        "df[\"char_count\"] = df[\"Text\"].apply(lambda x: len(x))\n",
        "char_mean = np.mean(df[\"char_count\"])\n",
        "\n",
        "# Find the indices of the ten rows with the highest values in 'char_count'\n",
        "indices_to_remove = df['char_count'].nlargest(10).index\n",
        "\n",
        "# Drop those rows and reset the index\n",
        "df = df.drop(index=indices_to_remove).reset_index(drop=True)\n",
        "\n",
        "print(f\"Min: {df['char_count'].min()} | Average: {char_mean:<0.3f} | Max: {df['char_count'].max()}\")"
      ],
      "metadata": {
        "colab": {
          "base_uri": "https://localhost:8080/"
        },
        "id": "LDQKN3fhadWH",
        "outputId": "d2be6a33-4cb6-475f-be92-292dfcb97ee5"
      },
      "execution_count": null,
      "outputs": [
        {
          "output_type": "stream",
          "name": "stdout",
          "text": [
            "Min: 5 | Average: 87.514 | Max: 199\n"
          ]
        }
      ]
    },
    {
      "cell_type": "code",
      "source": [
        "print(f\"The text that has the min amount of char: {df['Text'].loc[df['char_count'].idxmin()]}\")"
      ],
      "metadata": {
        "colab": {
          "base_uri": "https://localhost:8080/"
        },
        "id": "GipV5cTLahKK",
        "outputId": "f6212b6b-af8c-46dd-c584-f978b87c5357"
      },
      "execution_count": null,
      "outputs": [
        {
          "output_type": "stream",
          "name": "stdout",
          "text": [
            "The text that has the min amount of char: coons\n"
          ]
        }
      ]
    },
    {
      "cell_type": "code",
      "source": [
        "# Calculate the frequency of each character count and sort by index\n",
        "char_count = df[\"char_count\"].value_counts().sort_index()\n",
        "\n",
        "# Create a scatter plot of character counts versus their frequencies\n",
        "plt.plot(char_count.index, char_count.values, 'o', markersize=2, color='black')\n",
        "plt.xlabel(\"Number of Char\")\n",
        "plt.ylabel(\"Frequency\")\n",
        "\n",
        "plt.show()"
      ],
      "metadata": {
        "colab": {
          "base_uri": "https://localhost:8080/",
          "height": 449
        },
        "id": "yOHPmJvDakDE",
        "outputId": "4777697d-f4de-4272-a79b-ba18ea4b21aa"
      },
      "execution_count": null,
      "outputs": [
        {
          "output_type": "display_data",
          "data": {
            "text/plain": [
              "<Figure size 640x480 with 1 Axes>"
            ],
            "image/png": "[encoded data removed]"
          },
          "metadata": {}
        }
      ]
    },
    {
      "cell_type": "code",
      "source": [
        "max_freq = char_count.values.max()\n",
        "char_count = char_count.index[char_count.values == max_freq][0]\n",
        "print(f\"There are {max_freq} texts with a length of {char_count} chars\")"
      ],
      "metadata": {
        "colab": {
          "base_uri": "https://localhost:8080/"
        },
        "id": "48rUj1OyakAq",
        "outputId": "3f24f46a-65e9-4e04-bafe-f3ca7a7e6906"
      },
      "execution_count": null,
      "outputs": [
        {
          "output_type": "stream",
          "name": "stdout",
          "text": [
            "There are 157 texts with a length of 146 chars\n"
          ]
        }
      ]
    },
    {
      "cell_type": "markdown",
      "source": [
        "## 1.2. Data Preparation"
      ],
      "metadata": {
        "id": "eVnldb4xaoE4"
      }
    },
    {
      "cell_type": "code",
      "source": [
        "def preprocess_text(text: str,\n",
        "                    p: inflect.engine,\n",
        "                    stop_words: set,\n",
        "                    stemmer: SnowballStemmer) -> list:\n",
        "\n",
        "  # Convert to lowercase\n",
        "  text = text.lower()\n",
        "\n",
        "  # Combined regex pattern for removing hashtags, URLs, and 'rt'\n",
        "  text = re.sub( r'#\\w+|http[s]?://\\S+|\\brt\\b','',text)\n",
        "\n",
        "  # Replace @mentions with SPECIALTOKEN\n",
        "  text = re.sub(r'@\\w+', '', text)\n",
        "\n",
        "  # Convert numbers to words\n",
        "  text = re.sub(r'\\d+', lambda digit: p.number_to_words(digit.group()), text)\n",
        "\n",
        "  # Remove non-alphanumeric chars and newlines\n",
        "  text = re.sub(r'[^a-zA-Z\\s]', '', text).replace('\\n', ' ')\n",
        "\n",
        "  # Remove repeated characters (more than 2 occurrences)\n",
        "  text = re.sub(r'(.)\\1{2,}', r'\\1', text)\n",
        "\n",
        "  # Fix contractions\n",
        "  text = contractions.fix(text)\n",
        "\n",
        "  # Clean extra whitespace\n",
        "  text = ' '.join(text.split())\n",
        "\n",
        "  # Tokenize\n",
        "  tokens = word_tokenize(text)\n",
        "\n",
        "  # Remove stop words and stem in a single pass\n",
        "  processed_tokens = [stemmer.stem(token) for token in tokens if token not in stop_words]\n",
        "\n",
        "  return processed_tokens\n",
        "\n",
        "def process_dataframe(df: pd.DataFrame) -> pd.DataFrame:\n",
        "  # Initialize all resources once\n",
        "  p = inflect.engine()\n",
        "  stop_words = set(stopwords.words('english'))\n",
        "  stemmer = SnowballStemmer(\"english\")\n",
        "\n",
        "  # Create copy of relevant columns\n",
        "  df_pre = df[[\"Text\", \"Label\"]].copy()\n",
        "\n",
        "  # Apply all preprocessing steps in a single pass\n",
        "  df_pre[\"Text\"] = df_pre[\"Text\"].apply(lambda x: preprocess_text(x, p, stop_words, stemmer))\n",
        "\n",
        "  return df_pre"
      ],
      "metadata": {
        "id": "Nq0vFxJiaj-D"
      },
      "execution_count": null,
      "outputs": []
    },
    {
      "cell_type": "code",
      "source": [
        "# Process your DataFrame\n",
        "df_processed = process_dataframe(df)"
      ],
      "metadata": {
        "id": "33DYaWztnCC6"
      },
      "execution_count": null,
      "outputs": []
    },
    {
      "cell_type": "code",
      "source": [
        "# Check if we have an empty list\n",
        "empty_list = df_processed[df_processed[\"Text\"].apply(lambda x: x == [])].shape[0]\n",
        "\n",
        "if empty_list > 0:\n",
        "  # Remove rows with empty lists and reset the index\n",
        "  df_processed = df_processed[df_processed[\"Text\"].apply(lambda x: x != [])].reset_index(drop=True)\n",
        "  print(f\"There were {empty_list} rows with an empty list\")"
      ],
      "metadata": {
        "colab": {
          "base_uri": "https://localhost:8080/"
        },
        "id": "CQP1_wbzaj7l",
        "outputId": "45b244ac-5fe3-4f0c-f7dc-64dea4344d79"
      },
      "execution_count": null,
      "outputs": [
        {
          "output_type": "stream",
          "name": "stdout",
          "text": [
            "There were 9 rows with an empty list\n"
          ]
        }
      ]
    },
    {
      "cell_type": "markdown",
      "source": [
        "# 2. Word to Vector"
      ],
      "metadata": {
        "id": "YlQnjf4zbYv_"
      }
    },
    {
      "cell_type": "markdown",
      "source": [
        "## 2.1. Inspect the Word2Vec Model"
      ],
      "metadata": {
        "id": "cppGlcvgbfRp"
      }
    },
    {
      "cell_type": "code",
      "source": [
        "# Access the word vectors\n",
        "vocab = list(pretrain_wv.index_to_key)  # List of vocabulary words\n",
        "desired_word = 'king'\n",
        "\n",
        "# the vector of the desired word\n",
        "word_vector = pretrain_wv[desired_word]# word2vec_model.wv[desired_word]\n",
        "\n",
        "# Find similar words\n",
        "similar_words = pretrain_wv.most_similar(desired_word, topn=9) # word2vec_model.wv.most_similar(desired_word, topn=9)  # Top 9 similar words\n",
        "print(f\"The similar words to {desired_word} are:\")\n",
        "\n",
        "max_length = int(max(len(i) for i,_ in similar_words)) + 1\n",
        "for i, (j, k) in enumerate(similar_words):\n",
        "  print(f\"{i+1}) {j:<{max_length}}: {k:<0.3f}\")"
      ],
      "metadata": {
        "colab": {
          "base_uri": "https://localhost:8080/"
        },
        "id": "M9LCXFEpaj2y",
        "outputId": "a9806aa2-e88b-4d9f-ec10-357c49ee73a3"
      },
      "execution_count": null,
      "outputs": [
        {
          "output_type": "stream",
          "name": "stdout",
          "text": [
            "The similar words to king are:\n",
            "1) kings        : 0.714\n",
            "2) queen        : 0.651\n",
            "3) monarch      : 0.641\n",
            "4) crown_prince : 0.620\n",
            "5) prince       : 0.616\n",
            "6) sultan       : 0.586\n",
            "7) ruler        : 0.580\n",
            "8) princes      : 0.565\n",
            "9) Prince_Paras : 0.543\n"
          ]
        }
      ]
    },
    {
      "cell_type": "code",
      "source": [
        "# Separate data into labels and values\n",
        "labels, values = zip(*similar_words)\n",
        "\n",
        "# Create the bar chart\n",
        "plt.figure(figsize=(6, 4))\n",
        "plt.bar(labels, values)\n",
        "\n",
        "# Add titles and labels\n",
        "plt.title(f'Similar Words to {desired_word.capitalize()}', fontsize=16)\n",
        "plt.xlabel('Words', fontsize=14)\n",
        "plt.ylabel('Scores', fontsize=14)\n",
        "plt.xticks(rotation=45, fontsize=12)\n",
        "plt.yticks(ticks=[0, 0.5, 1])\n",
        "plt.tight_layout()\n",
        "\n",
        "# Display the chart\n",
        "plt.show()"
      ],
      "metadata": {
        "colab": {
          "base_uri": "https://localhost:8080/",
          "height": 407
        },
        "id": "LuHdH9zTe_0P",
        "outputId": "7763b62f-9b86-4296-bd80-d21ca59d5c63"
      },
      "execution_count": null,
      "outputs": [
        {
          "output_type": "display_data",
          "data": {
            "text/plain": [
              "<Figure size 600x400 with 1 Axes>"
            ],
            "image/png": "[encoded data removed]"
          },
          "metadata": {}
        }
      ]
    },
    {
      "cell_type": "markdown",
      "source": [
        "## 2.2. Sentence-Level Vectors"
      ],
      "metadata": {
        "id": "7s-HdMW0bnfO"
      }
    },
    {
      "cell_type": "code",
      "source": [
        "# Function to compute the average Word2Vec vector for a sentence\n",
        "def sentence_vector(tokens, model, vector_size):\n",
        "  vectors = [model[word] for word in tokens if word in model]\n",
        "  if len(vectors) == 0:\n",
        "    return np.zeros(vector_size)  # Return a zero vector if no words are found\n",
        "  return np.mean(vectors, axis=0)\n",
        "\n",
        "# Apply the function to create sentence-level vectors\n",
        "vector_size = pretrain_wv.vector_size\n",
        "df_processed['Word2Vec_Sentence_wv'] = df_processed['Text'].apply(lambda x: sentence_vector(x, pretrain_wv, vector_size))"
      ],
      "metadata": {
        "id": "PmFYRHaJATOr"
      },
      "execution_count": null,
      "outputs": []
    },
    {
      "cell_type": "markdown",
      "source": [
        "# 3. Models"
      ],
      "metadata": {
        "id": "-C9YCdwYbw32"
      }
    },
    {
      "cell_type": "code",
      "source": [
        "# Prepare the dataset\n",
        "X = np.array(df_processed['Word2Vec_Sentence_wv'].tolist())\n",
        "y = df_processed['Label']\n",
        "\n",
        "# Split the dataset into training and testing sets\n",
        "X_train, X_test, y_train, y_test = train_test_split(X,\n",
        "                                                    y,\n",
        "                                                    test_size=0.3,\n",
        "                                                    random_state=36,\n",
        "                                                    stratify=y)\n",
        "\n",
        "# Display the shapes of training and testing sets\n",
        "print(f\"Training set: {X_train.shape[0]} | Testing set: {X_test.shape[0]}\")"
      ],
      "metadata": {
        "colab": {
          "base_uri": "https://localhost:8080/"
        },
        "id": "W2JsQNyzajvR",
        "outputId": "6bcd2198-b990-4956-e238-6bf1ffc07d1c"
      },
      "execution_count": null,
      "outputs": [
        {
          "output_type": "stream",
          "name": "stdout",
          "text": [
            "Training set: 2989 | Testing set: 1282\n"
          ]
        }
      ]
    },
    {
      "cell_type": "markdown",
      "source": [
        "## 3.1. XGBoost"
      ],
      "metadata": {
        "id": "e4LA8Ot1BkjV"
      }
    },
    {
      "cell_type": "code",
      "source": [
        "# Initialize the model\n",
        "xgb_model = XGBClassifier(use_label_encoder=False, eval_metric='mlogloss', random_state=42)\n",
        "\n",
        "# Train the model\n",
        "xgb_model.fit(X_train, y_train)\n",
        "\n",
        "# Predict on the test set\n",
        "y_pred_xgb = xgb_model.predict(X_test)"
      ],
      "metadata": {
        "colab": {
          "base_uri": "https://localhost:8080/"
        },
        "id": "-zxnOZe362Z2",
        "outputId": "640a52db-210b-4c25-bb15-55ec283b64fb"
      },
      "execution_count": null,
      "outputs": [
        {
          "output_type": "stream",
          "name": "stderr",
          "text": [
            "/usr/local/lib/python3.11/dist-packages/xgboost/core.py:158: UserWarning: [12:34:09] WARNING: /workspace/src/learner.cc:740: \n",
            "Parameters: { \"use_label_encoder\" } are not used.\n",
            "\n",
            "  warnings.warn(smsg, UserWarning)\n"
          ]
        }
      ]
    },
    {
      "cell_type": "code",
      "source": [
        "# Evaluate the model\n",
        "accuracy = accuracy_score(y_test, y_pred_xgb)\n",
        "print(f\"XGBoost Model Accuracy: {accuracy:<0.2f}\\n\\nClassification Report:\\n{classification_report(y_test, y_pred_xgb)}\")"
      ],
      "metadata": {
        "colab": {
          "base_uri": "https://localhost:8080/"
        },
        "id": "m7puq5nqBpcd",
        "outputId": "d02a3b5b-dab4-470f-d076-de25be69f147"
      },
      "execution_count": null,
      "outputs": [
        {
          "output_type": "stream",
          "name": "stdout",
          "text": [
            "XGBoost Model Accuracy: 0.72\n",
            "\n",
            "Classification Report:\n",
            "              precision    recall  f1-score   support\n",
            "\n",
            "           0       0.72      0.84      0.78       427\n",
            "           1       0.72      0.59      0.65       428\n",
            "           2       0.72      0.73      0.73       427\n",
            "\n",
            "    accuracy                           0.72      1282\n",
            "   macro avg       0.72      0.72      0.72      1282\n",
            "weighted avg       0.72      0.72      0.72      1282\n",
            "\n"
          ]
        }
      ]
    },
    {
      "cell_type": "code",
      "source": [
        "labels = ['neutral', 'hate', 'offensive']\n",
        "\n",
        "# Confusion matrix\n",
        "print(\"\\nConfusion Matrix:\")\n",
        "cm = confusion_matrix(y_test, y_pred_xgb)\n",
        "plt.figure(figsize = (5, 3))\n",
        "sns.heatmap(cm, annot=True, fmt='d', xticklabels=labels, yticklabels=labels, cmap='Blues')\n",
        "plt.xlabel('Prediction')\n",
        "plt.ylabel('Truth')"
      ],
      "metadata": {
        "id": "vtjoZZS_1s31",
        "colab": {
          "base_uri": "https://localhost:8080/",
          "height": 363
        },
        "outputId": "01cfaae3-7eb7-43d1-a8c2-89755a27eb8c"
      },
      "execution_count": null,
      "outputs": [
        {
          "output_type": "stream",
          "name": "stdout",
          "text": [
            "\n",
            "Confusion Matrix:\n"
          ]
        },
        {
          "output_type": "execute_result",
          "data": {
            "text/plain": [
              "Text(33.222222222222214, 0.5, 'Truth')"
            ]
          },
          "metadata": {},
          "execution_count": 41
        },
        {
          "output_type": "display_data",
          "data": {
            "text/plain": [
              "<Figure size 500x300 with 2 Axes>"
            ],
            "image/png": "[encoded data removed]"
          },
          "metadata": {}
        }
      ]
    },
    {
      "cell_type": "markdown",
      "source": [
        "## 3.2. Support Vector Machine"
      ],
      "metadata": {
        "id": "HSM7WUKycDNe"
      }
    },
    {
      "cell_type": "code",
      "source": [
        "# Initialize the model\n",
        "svm_model = SVC(kernel='linear', random_state=42)\n",
        "\n",
        "# Train the model\n",
        "svm_model.fit(X_train, y_train)\n",
        "\n",
        "# Predict on the test set\n",
        "y_pred_svm = svm_model.predict(X_test)"
      ],
      "metadata": {
        "id": "CurqHZVDajn_"
      },
      "execution_count": null,
      "outputs": []
    },
    {
      "cell_type": "code",
      "source": [
        "# Evaluate the model\n",
        "accuracy = accuracy_score(y_test, y_pred_svm)\n",
        "print(f\"Model Accuracy: {accuracy:<0.2f}\\n\\nClassification Report:\\n{classification_report(y_test, y_pred_svm)}\")"
      ],
      "metadata": {
        "colab": {
          "base_uri": "https://localhost:8080/"
        },
        "id": "zsKbTURqajli",
        "outputId": "6c20f5ba-f926-4353-88b2-11d2e8c25c05"
      },
      "execution_count": null,
      "outputs": [
        {
          "output_type": "stream",
          "name": "stdout",
          "text": [
            "Model Accuracy: 0.71\n",
            "\n",
            "Classification Report:\n",
            "              precision    recall  f1-score   support\n",
            "\n",
            "           0       0.71      0.85      0.77       427\n",
            "           1       0.69      0.59      0.64       428\n",
            "           2       0.73      0.70      0.72       427\n",
            "\n",
            "    accuracy                           0.71      1282\n",
            "   macro avg       0.71      0.71      0.71      1282\n",
            "weighted avg       0.71      0.71      0.71      1282\n",
            "\n"
          ]
        }
      ]
    },
    {
      "cell_type": "code",
      "source": [
        "labels = ['neutral', 'hate', 'offensive']\n",
        "\n",
        "# Confusion matrix\n",
        "print(\"\\nConfusion Matrix:\")\n",
        "cm = confusion_matrix(y_test, y_pred_svm)\n",
        "plt.figure(figsize = (5, 3))\n",
        "sns.heatmap(cm, annot=True, fmt='d', xticklabels=labels, yticklabels=labels, cmap='Blues')\n",
        "plt.xlabel('Prediction')\n",
        "plt.ylabel('Truth')"
      ],
      "metadata": {
        "id": "8pCNT_V311vt",
        "colab": {
          "base_uri": "https://localhost:8080/",
          "height": 363
        },
        "outputId": "6a6875c1-c1a4-493a-a680-9fc2125a1ad4"
      },
      "execution_count": null,
      "outputs": [
        {
          "output_type": "stream",
          "name": "stdout",
          "text": [
            "\n",
            "Confusion Matrix:\n"
          ]
        },
        {
          "output_type": "execute_result",
          "data": {
            "text/plain": [
              "Text(33.222222222222214, 0.5, 'Truth')"
            ]
          },
          "metadata": {},
          "execution_count": 44
        },
        {
          "output_type": "display_data",
          "data": {
            "text/plain": [
              "<Figure size 500x300 with 2 Axes>"
            ],
            "image/png": "[encoded data removed]"
          },
          "metadata": {}
        }
      ]
    }
  ]
}